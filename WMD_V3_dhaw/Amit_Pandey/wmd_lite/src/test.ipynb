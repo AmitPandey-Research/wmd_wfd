{
 "cells": [
  {
   "cell_type": "code",
   "execution_count": 3,
   "id": "7b9a7281",
   "metadata": {
    "scrolled": true
   },
   "outputs": [
    {
     "name": "stdout",
     "output_type": "stream",
     "text": [
      "this is a test python notebook to be run using bash file \n",
      "\n",
      "processing the i = 1.0 \n",
      "processing the i = 0.0 \n",
      "processing the i = 3.0 \n",
      "processing the i = 4.0 \n",
      "\n",
      "processing the i = 2.0 \n",
      "\n",
      "\n",
      "\n",
      "\n",
      "########### type of a[0] <class 'dict'>\n",
      " printing the output of map function :  [{0.0: []}, {1.0: [0.0]}, {2.0: [0.0, 1.0]}, {3.0: [0.0, 1.0, 2.0]}, {4.0: [0.0, 1.0, 2.0, 3.0]}] \n",
      "\n",
      "time taken is :  0.05843067169189453\n",
      "[{\"0.0\": []}, {\"1.0\": [0.0]}, {\"2.0\": [0.0, 1.0]}, {\"3.0\": [0.0, 1.0, 2.0]}, {\"4.0\": [0.0, 1.0, 2.0, 3.0]}]\n"
     ]
    }
   ],
   "source": [
    "print(\"this is a test python notebook to be run using bash file \\n\")\n",
    "\n",
    "import numpy as np\n",
    "from multiprocessing import Pool\n",
    "import json\n",
    "import time\n",
    "\n",
    "st = time.time()\n",
    "\n",
    "dicti = {}\n",
    "\n",
    "def fun(i):\n",
    "    print(f\"processing the i = {i} \\n\")\n",
    "    dicti[i] = np.arange(i).tolist()\n",
    "    \n",
    "    return dicti\n",
    "    \n",
    "    \n",
    "with Pool(10) as p:\n",
    "      a = p.map(fun,np.arange(5,dtype=float))\n",
    "        \n",
    "\n",
    "print(\"########### type of a[0]\",type(a[0]))\n",
    "\n",
    "\n",
    "print(\" printing the output of map function : \",a ,\"\\n\")\n",
    "\n",
    "\n",
    "et = time.time()\n",
    "\n",
    "print(\"time taken is : \", et-st)\n",
    "\n",
    "a_file = open(\"testdic.json\", \"w\")\n",
    "json.dump(a, a_file)\n",
    "a_file.close()\n",
    "\n",
    "a_file = open(\"testdic.json\", \"r\")\n",
    "output = a_file.read()\n",
    "print(output)\n",
    "\n",
    "a_file.close()\n",
    "\n"
   ]
  },
  {
   "cell_type": "code",
   "execution_count": 6,
   "id": "d8e3cb09",
   "metadata": {},
   "outputs": [
    {
     "name": "stdout",
     "output_type": "stream",
     "text": [
      "hello\n"
     ]
    }
   ],
   "source": [
    "print(\"hello\")"
   ]
  },
  {
   "cell_type": "code",
   "execution_count": null,
   "id": "5947b251",
   "metadata": {},
   "outputs": [],
   "source": [
    "a_file = open(\"testdic.json\", \"r\")\n",
    "output = json.load(a_file)\n",
    "print(output)\n",
    "\n",
    "a_file.close()"
   ]
  },
  {
   "cell_type": "code",
   "execution_count": null,
   "id": "182c1ac9",
   "metadata": {},
   "outputs": [],
   "source": []
  }
 ],
 "metadata": {
  "kernelspec": {
   "display_name": "Python 3",
   "language": "python",
   "name": "python3"
  },
  "language_info": {
   "codemirror_mode": {
    "name": "ipython",
    "version": 3
   },
   "file_extension": ".py",
   "mimetype": "text/x-python",
   "name": "python",
   "nbconvert_exporter": "python",
   "pygments_lexer": "ipython3",
   "version": "3.9.5"
  }
 },
 "nbformat": 4,
 "nbformat_minor": 5
}
